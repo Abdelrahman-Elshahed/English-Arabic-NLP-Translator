{
  "cells": [
    {
      "cell_type": "markdown",
      "metadata": {},
      "source": [
        "Import necessary libraries"
      ]
    },
    {
      "cell_type": "code",
      "execution_count": null,
      "metadata": {
        "id": "Sd5BkrtnXaDF"
      },
      "outputs": [],
      "source": [
        "import pandas as pd\n",
        "import numpy as np\n",
        "import re\n",
        "from tensorflow.keras.preprocessing.text import Tokenizer\n",
        "from tensorflow.keras.preprocessing.sequence import pad_sequences\n",
        "from tensorflow.keras.models import Sequential\n",
        "from tensorflow.keras.layers import Embedding, GRU, Dense, Bidirectional, Dropout\n",
        "from tensorflow.keras.callbacks import EarlyStopping\n",
        "from sklearn.model_selection import train_test_split"
      ]
    },
    {
      "cell_type": "markdown",
      "metadata": {},
      "source": [
        "Step 1: Data Collection"
      ]
    },
    {
      "cell_type": "code",
      "execution_count": null,
      "metadata": {
        "id": "eJoaKXO1Xxpc"
      },
      "outputs": [],
      "source": [
        "data = pd.read_csv(\"ara_eng.txt\", delimiter=\"\\t\", encoding=\"utf-8\", names=[\"english\", \"arabic\"])"
      ]
    },
    {
      "cell_type": "code",
      "execution_count": null,
      "metadata": {
        "colab": {
          "base_uri": "https://localhost:8080/",
          "height": 424
        },
        "id": "RaDIwGMocdGB",
        "outputId": "ce5da444-62f2-4cab-e48e-64f4af344d2e"
      },
      "outputs": [
        {
          "data": {
            "text/html": [
              "\n",
              "  <div id=\"df-ccba8899-2474-440e-954d-7f23a3cb4b24\" class=\"colab-df-container\">\n",
              "    <div>\n",
              "<style scoped>\n",
              "    .dataframe tbody tr th:only-of-type {\n",
              "        vertical-align: middle;\n",
              "    }\n",
              "\n",
              "    .dataframe tbody tr th {\n",
              "        vertical-align: top;\n",
              "    }\n",
              "\n",
              "    .dataframe thead th {\n",
              "        text-align: right;\n",
              "    }\n",
              "</style>\n",
              "<table border=\"1\" class=\"dataframe\">\n",
              "  <thead>\n",
              "    <tr style=\"text-align: right;\">\n",
              "      <th></th>\n",
              "      <th>english</th>\n",
              "      <th>arabic</th>\n",
              "    </tr>\n",
              "  </thead>\n",
              "  <tbody>\n",
              "    <tr>\n",
              "      <th>0</th>\n",
              "      <td>Hi.</td>\n",
              "      <td>مرحبًا.</td>\n",
              "    </tr>\n",
              "    <tr>\n",
              "      <th>1</th>\n",
              "      <td>Run!</td>\n",
              "      <td>اركض!</td>\n",
              "    </tr>\n",
              "    <tr>\n",
              "      <th>2</th>\n",
              "      <td>Help!</td>\n",
              "      <td>النجدة!</td>\n",
              "    </tr>\n",
              "    <tr>\n",
              "      <th>3</th>\n",
              "      <td>Jump!</td>\n",
              "      <td>اقفز!</td>\n",
              "    </tr>\n",
              "    <tr>\n",
              "      <th>4</th>\n",
              "      <td>Stop!</td>\n",
              "      <td>قف!</td>\n",
              "    </tr>\n",
              "    <tr>\n",
              "      <th>...</th>\n",
              "      <td>...</td>\n",
              "      <td>...</td>\n",
              "    </tr>\n",
              "    <tr>\n",
              "      <th>24633</th>\n",
              "      <td>rising voices promoting a more linguistically ...</td>\n",
              "      <td>شاركنا تحدي ابداع ميم بلغتك الام تعزيزا للتنوع...</td>\n",
              "    </tr>\n",
              "    <tr>\n",
              "      <th>24634</th>\n",
              "      <td>following last year s successful campaign we i...</td>\n",
              "      <td>استكمالا لنجاح حملة العام السابق ندعوكم للمشار...</td>\n",
              "    </tr>\n",
              "    <tr>\n",
              "      <th>24635</th>\n",
              "      <td>during last year s challenge we also met langu...</td>\n",
              "      <td>تعرفنا خلال تحدي العام الماضي على ابطال لغويين...</td>\n",
              "    </tr>\n",
              "    <tr>\n",
              "      <th>24636</th>\n",
              "      <td>to take part just follow the simple steps outl...</td>\n",
              "      <td>للمشاركة في التحدي اتبع الخطوات الموضحة على ال...</td>\n",
              "    </tr>\n",
              "    <tr>\n",
              "      <th>24637</th>\n",
              "      <td>you will also find links to some free web base...</td>\n",
              "      <td>ستجد ايضا روابط لمجموعة من منصات ابداع الميم ا...</td>\n",
              "    </tr>\n",
              "  </tbody>\n",
              "</table>\n",
              "<p>24638 rows × 2 columns</p>\n",
              "</div>\n",
              "    <div class=\"colab-df-buttons\">\n",
              "\n",
              "  <div class=\"colab-df-container\">\n",
              "    <button class=\"colab-df-convert\" onclick=\"convertToInteractive('df-ccba8899-2474-440e-954d-7f23a3cb4b24')\"\n",
              "            title=\"Convert this dataframe to an interactive table.\"\n",
              "            style=\"display:none;\">\n",
              "\n",
              "  <svg xmlns=\"http://www.w3.org/2000/svg\" height=\"24px\" viewBox=\"0 -960 960 960\">\n",
              "    <path d=\"M120-120v-720h720v720H120Zm60-500h600v-160H180v160Zm220 220h160v-160H400v160Zm0 220h160v-160H400v160ZM180-400h160v-160H180v160Zm440 0h160v-160H620v160ZM180-180h160v-160H180v160Zm440 0h160v-160H620v160Z\"/>\n",
              "  </svg>\n",
              "    </button>\n",
              "\n",
              "  <style>\n",
              "    .colab-df-container {\n",
              "      display:flex;\n",
              "      gap: 12px;\n",
              "    }\n",
              "\n",
              "    .colab-df-convert {\n",
              "      background-color: #E8F0FE;\n",
              "      border: none;\n",
              "      border-radius: 50%;\n",
              "      cursor: pointer;\n",
              "      display: none;\n",
              "      fill: #1967D2;\n",
              "      height: 32px;\n",
              "      padding: 0 0 0 0;\n",
              "      width: 32px;\n",
              "    }\n",
              "\n",
              "    .colab-df-convert:hover {\n",
              "      background-color: #E2EBFA;\n",
              "      box-shadow: 0px 1px 2px rgba(60, 64, 67, 0.3), 0px 1px 3px 1px rgba(60, 64, 67, 0.15);\n",
              "      fill: #174EA6;\n",
              "    }\n",
              "\n",
              "    .colab-df-buttons div {\n",
              "      margin-bottom: 4px;\n",
              "    }\n",
              "\n",
              "    [theme=dark] .colab-df-convert {\n",
              "      background-color: #3B4455;\n",
              "      fill: #D2E3FC;\n",
              "    }\n",
              "\n",
              "    [theme=dark] .colab-df-convert:hover {\n",
              "      background-color: #434B5C;\n",
              "      box-shadow: 0px 1px 3px 1px rgba(0, 0, 0, 0.15);\n",
              "      filter: drop-shadow(0px 1px 2px rgba(0, 0, 0, 0.3));\n",
              "      fill: #FFFFFF;\n",
              "    }\n",
              "  </style>\n",
              "\n",
              "    <script>\n",
              "      const buttonEl =\n",
              "        document.querySelector('#df-ccba8899-2474-440e-954d-7f23a3cb4b24 button.colab-df-convert');\n",
              "      buttonEl.style.display =\n",
              "        google.colab.kernel.accessAllowed ? 'block' : 'none';\n",
              "\n",
              "      async function convertToInteractive(key) {\n",
              "        const element = document.querySelector('#df-ccba8899-2474-440e-954d-7f23a3cb4b24');\n",
              "        const dataTable =\n",
              "          await google.colab.kernel.invokeFunction('convertToInteractive',\n",
              "                                                    [key], {});\n",
              "        if (!dataTable) return;\n",
              "\n",
              "        const docLinkHtml = 'Like what you see? Visit the ' +\n",
              "          '<a target=\"_blank\" href=https://colab.research.google.com/notebooks/data_table.ipynb>data table notebook</a>'\n",
              "          + ' to learn more about interactive tables.';\n",
              "        element.innerHTML = '';\n",
              "        dataTable['output_type'] = 'display_data';\n",
              "        await google.colab.output.renderOutput(dataTable, element);\n",
              "        const docLink = document.createElement('div');\n",
              "        docLink.innerHTML = docLinkHtml;\n",
              "        element.appendChild(docLink);\n",
              "      }\n",
              "    </script>\n",
              "  </div>\n",
              "\n",
              "\n",
              "<div id=\"df-aa7d780a-c7bf-447c-a767-dddb027b7bb9\">\n",
              "  <button class=\"colab-df-quickchart\" onclick=\"quickchart('df-aa7d780a-c7bf-447c-a767-dddb027b7bb9')\"\n",
              "            title=\"Suggest charts\"\n",
              "            style=\"display:none;\">\n",
              "\n",
              "<svg xmlns=\"http://www.w3.org/2000/svg\" height=\"24px\"viewBox=\"0 0 24 24\"\n",
              "     width=\"24px\">\n",
              "    <g>\n",
              "        <path d=\"M19 3H5c-1.1 0-2 .9-2 2v14c0 1.1.9 2 2 2h14c1.1 0 2-.9 2-2V5c0-1.1-.9-2-2-2zM9 17H7v-7h2v7zm4 0h-2V7h2v10zm4 0h-2v-4h2v4z\"/>\n",
              "    </g>\n",
              "</svg>\n",
              "  </button>\n",
              "\n",
              "<style>\n",
              "  .colab-df-quickchart {\n",
              "      --bg-color: #E8F0FE;\n",
              "      --fill-color: #1967D2;\n",
              "      --hover-bg-color: #E2EBFA;\n",
              "      --hover-fill-color: #174EA6;\n",
              "      --disabled-fill-color: #AAA;\n",
              "      --disabled-bg-color: #DDD;\n",
              "  }\n",
              "\n",
              "  [theme=dark] .colab-df-quickchart {\n",
              "      --bg-color: #3B4455;\n",
              "      --fill-color: #D2E3FC;\n",
              "      --hover-bg-color: #434B5C;\n",
              "      --hover-fill-color: #FFFFFF;\n",
              "      --disabled-bg-color: #3B4455;\n",
              "      --disabled-fill-color: #666;\n",
              "  }\n",
              "\n",
              "  .colab-df-quickchart {\n",
              "    background-color: var(--bg-color);\n",
              "    border: none;\n",
              "    border-radius: 50%;\n",
              "    cursor: pointer;\n",
              "    display: none;\n",
              "    fill: var(--fill-color);\n",
              "    height: 32px;\n",
              "    padding: 0;\n",
              "    width: 32px;\n",
              "  }\n",
              "\n",
              "  .colab-df-quickchart:hover {\n",
              "    background-color: var(--hover-bg-color);\n",
              "    box-shadow: 0 1px 2px rgba(60, 64, 67, 0.3), 0 1px 3px 1px rgba(60, 64, 67, 0.15);\n",
              "    fill: var(--button-hover-fill-color);\n",
              "  }\n",
              "\n",
              "  .colab-df-quickchart-complete:disabled,\n",
              "  .colab-df-quickchart-complete:disabled:hover {\n",
              "    background-color: var(--disabled-bg-color);\n",
              "    fill: var(--disabled-fill-color);\n",
              "    box-shadow: none;\n",
              "  }\n",
              "\n",
              "  .colab-df-spinner {\n",
              "    border: 2px solid var(--fill-color);\n",
              "    border-color: transparent;\n",
              "    border-bottom-color: var(--fill-color);\n",
              "    animation:\n",
              "      spin 1s steps(1) infinite;\n",
              "  }\n",
              "\n",
              "  @keyframes spin {\n",
              "    0% {\n",
              "      border-color: transparent;\n",
              "      border-bottom-color: var(--fill-color);\n",
              "      border-left-color: var(--fill-color);\n",
              "    }\n",
              "    20% {\n",
              "      border-color: transparent;\n",
              "      border-left-color: var(--fill-color);\n",
              "      border-top-color: var(--fill-color);\n",
              "    }\n",
              "    30% {\n",
              "      border-color: transparent;\n",
              "      border-left-color: var(--fill-color);\n",
              "      border-top-color: var(--fill-color);\n",
              "      border-right-color: var(--fill-color);\n",
              "    }\n",
              "    40% {\n",
              "      border-color: transparent;\n",
              "      border-right-color: var(--fill-color);\n",
              "      border-top-color: var(--fill-color);\n",
              "    }\n",
              "    60% {\n",
              "      border-color: transparent;\n",
              "      border-right-color: var(--fill-color);\n",
              "    }\n",
              "    80% {\n",
              "      border-color: transparent;\n",
              "      border-right-color: var(--fill-color);\n",
              "      border-bottom-color: var(--fill-color);\n",
              "    }\n",
              "    90% {\n",
              "      border-color: transparent;\n",
              "      border-bottom-color: var(--fill-color);\n",
              "    }\n",
              "  }\n",
              "</style>\n",
              "\n",
              "  <script>\n",
              "    async function quickchart(key) {\n",
              "      const quickchartButtonEl =\n",
              "        document.querySelector('#' + key + ' button');\n",
              "      quickchartButtonEl.disabled = true;  // To prevent multiple clicks.\n",
              "      quickchartButtonEl.classList.add('colab-df-spinner');\n",
              "      try {\n",
              "        const charts = await google.colab.kernel.invokeFunction(\n",
              "            'suggestCharts', [key], {});\n",
              "      } catch (error) {\n",
              "        console.error('Error during call to suggestCharts:', error);\n",
              "      }\n",
              "      quickchartButtonEl.classList.remove('colab-df-spinner');\n",
              "      quickchartButtonEl.classList.add('colab-df-quickchart-complete');\n",
              "    }\n",
              "    (() => {\n",
              "      let quickchartButtonEl =\n",
              "        document.querySelector('#df-aa7d780a-c7bf-447c-a767-dddb027b7bb9 button');\n",
              "      quickchartButtonEl.style.display =\n",
              "        google.colab.kernel.accessAllowed ? 'block' : 'none';\n",
              "    })();\n",
              "  </script>\n",
              "</div>\n",
              "\n",
              "  <div id=\"id_c59fffa3-fee9-4fd8-8191-4c19404c09eb\">\n",
              "    <style>\n",
              "      .colab-df-generate {\n",
              "        background-color: #E8F0FE;\n",
              "        border: none;\n",
              "        border-radius: 50%;\n",
              "        cursor: pointer;\n",
              "        display: none;\n",
              "        fill: #1967D2;\n",
              "        height: 32px;\n",
              "        padding: 0 0 0 0;\n",
              "        width: 32px;\n",
              "      }\n",
              "\n",
              "      .colab-df-generate:hover {\n",
              "        background-color: #E2EBFA;\n",
              "        box-shadow: 0px 1px 2px rgba(60, 64, 67, 0.3), 0px 1px 3px 1px rgba(60, 64, 67, 0.15);\n",
              "        fill: #174EA6;\n",
              "      }\n",
              "\n",
              "      [theme=dark] .colab-df-generate {\n",
              "        background-color: #3B4455;\n",
              "        fill: #D2E3FC;\n",
              "      }\n",
              "\n",
              "      [theme=dark] .colab-df-generate:hover {\n",
              "        background-color: #434B5C;\n",
              "        box-shadow: 0px 1px 3px 1px rgba(0, 0, 0, 0.15);\n",
              "        filter: drop-shadow(0px 1px 2px rgba(0, 0, 0, 0.3));\n",
              "        fill: #FFFFFF;\n",
              "      }\n",
              "    </style>\n",
              "    <button class=\"colab-df-generate\" onclick=\"generateWithVariable('data')\"\n",
              "            title=\"Generate code using this dataframe.\"\n",
              "            style=\"display:none;\">\n",
              "\n",
              "  <svg xmlns=\"http://www.w3.org/2000/svg\" height=\"24px\"viewBox=\"0 0 24 24\"\n",
              "       width=\"24px\">\n",
              "    <path d=\"M7,19H8.4L18.45,9,17,7.55,7,17.6ZM5,21V16.75L18.45,3.32a2,2,0,0,1,2.83,0l1.4,1.43a1.91,1.91,0,0,1,.58,1.4,1.91,1.91,0,0,1-.58,1.4L9.25,21ZM18.45,9,17,7.55Zm-12,3A5.31,5.31,0,0,0,4.9,8.1,5.31,5.31,0,0,0,1,6.5,5.31,5.31,0,0,0,4.9,4.9,5.31,5.31,0,0,0,6.5,1,5.31,5.31,0,0,0,8.1,4.9,5.31,5.31,0,0,0,12,6.5,5.46,5.46,0,0,0,6.5,12Z\"/>\n",
              "  </svg>\n",
              "    </button>\n",
              "    <script>\n",
              "      (() => {\n",
              "      const buttonEl =\n",
              "        document.querySelector('#id_c59fffa3-fee9-4fd8-8191-4c19404c09eb button.colab-df-generate');\n",
              "      buttonEl.style.display =\n",
              "        google.colab.kernel.accessAllowed ? 'block' : 'none';\n",
              "\n",
              "      buttonEl.onclick = () => {\n",
              "        google.colab.notebook.generateWithVariable('data');\n",
              "      }\n",
              "      })();\n",
              "    </script>\n",
              "  </div>\n",
              "\n",
              "    </div>\n",
              "  </div>\n"
            ],
            "text/plain": [
              "                                                 english  \\\n",
              "0                                                    Hi.   \n",
              "1                                                   Run!   \n",
              "2                                                  Help!   \n",
              "3                                                  Jump!   \n",
              "4                                                  Stop!   \n",
              "...                                                  ...   \n",
              "24633  rising voices promoting a more linguistically ...   \n",
              "24634  following last year s successful campaign we i...   \n",
              "24635  during last year s challenge we also met langu...   \n",
              "24636  to take part just follow the simple steps outl...   \n",
              "24637  you will also find links to some free web base...   \n",
              "\n",
              "                                                  arabic  \n",
              "0                                                مرحبًا.  \n",
              "1                                                  اركض!  \n",
              "2                                                النجدة!  \n",
              "3                                                  اقفز!  \n",
              "4                                                    قف!  \n",
              "...                                                  ...  \n",
              "24633  شاركنا تحدي ابداع ميم بلغتك الام تعزيزا للتنوع...  \n",
              "24634  استكمالا لنجاح حملة العام السابق ندعوكم للمشار...  \n",
              "24635  تعرفنا خلال تحدي العام الماضي على ابطال لغويين...  \n",
              "24636  للمشاركة في التحدي اتبع الخطوات الموضحة على ال...  \n",
              "24637  ستجد ايضا روابط لمجموعة من منصات ابداع الميم ا...  \n",
              "\n",
              "[24638 rows x 2 columns]"
            ]
          },
          "execution_count": 14,
          "metadata": {},
          "output_type": "execute_result"
        }
      ],
      "source": [
        "data"
      ]
    },
    {
      "cell_type": "markdown",
      "metadata": {},
      "source": [
        "Step 2: Data Preprocessing"
      ]
    },
    {
      "cell_type": "code",
      "execution_count": null,
      "metadata": {
        "id": "gyqkDXjpc5ED"
      },
      "outputs": [],
      "source": [
        "def preprocess(text):\n",
        "    return text.lower()\n",
        "\n",
        "data['english'] = data['english'].apply(preprocess)\n",
        "\n",
        "# Tokenization and Word Indexing for English\n",
        "english_tokenizer = Tokenizer()\n",
        "english_tokenizer.fit_on_texts(data['english'])\n",
        "english_word_index = english_tokenizer.word_index\n",
        "english_idx2word = {idx: word for word, idx in english_word_index.items()}\n",
        "\n",
        "# Tokenization and Word Indexing for Arabic\n",
        "arabic_tokenizer = Tokenizer()\n",
        "arabic_tokenizer.fit_on_texts(data['arabic'])\n",
        "arabic_word_index = arabic_tokenizer.word_index\n",
        "arabic_idx2word = {idx: word for word, idx in arabic_word_index.items()}"
      ]
    },
    {
      "cell_type": "markdown",
      "metadata": {},
      "source": [
        "Step 3: Padding"
      ]
    },
    {
      "cell_type": "code",
      "execution_count": null,
      "metadata": {
        "id": "kpT0Vs4mdNi3"
      },
      "outputs": [],
      "source": [
        "max_len = max(max(len(seq.split()) for seq in data['english']),\n",
        "              max(len(seq.split()) for seq in data['arabic']))\n",
        "english_sequences = english_tokenizer.texts_to_sequences(data['english'])\n",
        "arabic_sequences = arabic_tokenizer.texts_to_sequences(data['arabic'])\n",
        "padded_english_sequences = pad_sequences(english_sequences, maxlen=max_len, padding='post')\n",
        "padded_arabic_sequences = pad_sequences(arabic_sequences, maxlen=max_len, padding='post')"
      ]
    },
    {
      "cell_type": "markdown",
      "metadata": {},
      "source": [
        "Step 4: Model Building"
      ]
    },
    {
      "cell_type": "code",
      "execution_count": null,
      "metadata": {
        "id": "r5qqPFpMgD_o"
      },
      "outputs": [],
      "source": [
        "model = Sequential()\n",
        "model.add(Embedding(input_dim=len(english_word_index) + 1, output_dim=100, input_length=max_len))\n",
        "model.add(Bidirectional(GRU(256, return_sequences=True)))\n",
        "model.add(Dropout(0.5)) \n",
        "model.add(Dense(len(arabic_word_index) + 1, activation='softmax'))"
      ]
    },
    {
      "cell_type": "markdown",
      "metadata": {},
      "source": [
        "Step 5: Model Compilation and Training"
      ]
    },
    {
      "cell_type": "code",
      "execution_count": null,
      "metadata": {
        "colab": {
          "base_uri": "https://localhost:8080/"
        },
        "id": "dqCfrpbVg8dJ",
        "outputId": "707cf30f-e804-4622-ff33-52be1a38beb2"
      },
      "outputs": [
        {
          "name": "stdout",
          "output_type": "stream",
          "text": [
            "Epoch 1/10\n",
            "616/616 [==============================] - 459s 738ms/step - loss: 0.6533 - accuracy: 0.9334 - val_loss: 0.6120 - val_accuracy: 0.9351\n",
            "Epoch 2/10\n",
            "616/616 [==============================] - 403s 654ms/step - loss: 0.6056 - accuracy: 0.9346 - val_loss: 0.6002 - val_accuracy: 0.9359\n",
            "Epoch 3/10\n",
            "616/616 [==============================] - 401s 652ms/step - loss: 0.5858 - accuracy: 0.9353 - val_loss: 0.5979 - val_accuracy: 0.9361\n",
            "Epoch 4/10\n",
            "616/616 [==============================] - 437s 710ms/step - loss: 0.5672 - accuracy: 0.9358 - val_loss: 0.5957 - val_accuracy: 0.9363\n",
            "Epoch 5/10\n",
            "616/616 [==============================] - 401s 651ms/step - loss: 0.5469 - accuracy: 0.9364 - val_loss: 0.5958 - val_accuracy: 0.9367\n",
            "Epoch 6/10\n",
            "616/616 [==============================] - 400s 650ms/step - loss: 0.5227 - accuracy: 0.9369 - val_loss: 0.5971 - val_accuracy: 0.9369\n",
            "Epoch 7/10\n",
            "616/616 [==============================] - 401s 651ms/step - loss: 0.4951 - accuracy: 0.9373 - val_loss: 0.5992 - val_accuracy: 0.9369\n"
          ]
        }
      ],
      "source": [
        "model.compile(optimizer='adam', loss='sparse_categorical_crossentropy', metrics=['accuracy'])\n",
        "\n",
        "early_stopping = EarlyStopping(monitor='val_loss', patience=3, restore_best_weights=True)\n",
        "\n",
        "X_train, X_test, y_train, y_test = train_test_split(padded_english_sequences, padded_arabic_sequences, test_size=0.2, random_state=42)\n",
        "\n",
        "# Train the model with early stopping\n",
        "history = model.fit(X_train, y_train, epochs=10, batch_size=32, validation_data=(X_test, y_test), callbacks=[early_stopping])\n"
      ]
    },
    {
      "cell_type": "code",
      "execution_count": null,
      "metadata": {
        "colab": {
          "base_uri": "https://localhost:8080/",
          "height": 453
        },
        "id": "SGB0MBVJOTGp",
        "outputId": "f9822d30-e54d-48e2-d95f-5c2ebbd05626"
      },
      "outputs": [
        {
          "data": {
            "image/png": "[encoded data removed]",
            "text/plain": [
              "<Figure size 640x480 with 1 Axes>"
            ]
          },
          "metadata": {},
          "output_type": "display_data"
        }
      ],
      "source": [
        "import matplotlib.pyplot as plt\n",
        "\n",
        "plt.plot(history.history['accuracy'], label='train_accuracy')\n",
        "plt.plot(history.history['val_accuracy'], label='val_accuracy')\n",
        "plt.xlabel('Epochs')\n",
        "plt.ylabel('Accuracy')\n",
        "plt.legend()\n",
        "plt.show()"
      ]
    },
    {
      "cell_type": "markdown",
      "metadata": {},
      "source": [
        "Step 6: Evaluation"
      ]
    },
    {
      "cell_type": "code",
      "execution_count": null,
      "metadata": {
        "colab": {
          "base_uri": "https://localhost:8080/"
        },
        "id": "FEq-ecBK5_5w",
        "outputId": "d90bf7cf-0821-412e-a456-99bd94c6a60d"
      },
      "outputs": [
        {
          "name": "stdout",
          "output_type": "stream",
          "text": [
            "154/154 [==============================] - 46s 301ms/step - loss: 0.5957 - accuracy: 0.9363\n",
            "Test Loss: 0.5957238078117371, Test Accuracy: 0.9362941980361938\n"
          ]
        }
      ],
      "source": [
        "loss, accuracy = model.evaluate(X_test, y_test)\n",
        "print(f\"Test Loss: {loss}, Test Accuracy: {accuracy}\")"
      ]
    },
    {
      "cell_type": "markdown",
      "metadata": {},
      "source": [
        "Step 7: Prediction"
      ]
    },
    {
      "cell_type": "code",
      "execution_count": null,
      "metadata": {
        "id": "kHEsb8Gt6LOu"
      },
      "outputs": [],
      "source": [
        "def translate_sentence(sentence):\n",
        "    # Preprocess and tokenize the input sentence\n",
        "    sentence = preprocess(sentence)\n",
        "    sequence = english_tokenizer.texts_to_sequences([sentence])\n",
        "    padded_sequence = pad_sequences(sequence, maxlen=max_len, padding='post')\n",
        "\n",
        "    # Generate the translation probabilities\n",
        "    translation_probabilities = model.predict(padded_sequence)\n",
        "\n",
        "    # Get the index with the highest probability for each time step\n",
        "    translation_idx = np.argmax(translation_probabilities, axis=-1)\n",
        "\n",
        "    # Convert indices to words in the Arabic vocabulary\n",
        "    translation = ' '.join([arabic_idx2word.get(idx, '') for idx in translation_idx[0]])\n",
        "\n",
        "    return translation"
      ]
    },
    {
      "cell_type": "markdown",
      "metadata": {},
      "source": [
        "Try model"
      ]
    },
    {
      "cell_type": "code",
      "execution_count": null,
      "metadata": {
        "colab": {
          "base_uri": "https://localhost:8080/"
        },
        "id": "XfLIpWGp6OWP",
        "outputId": "59a0e3a8-2aa2-46e7-a441-50f7561b9522"
      },
      "outputs": [
        {
          "name": "stdout",
          "output_type": "stream",
          "text": [
            "enter english sentence: I'm sorry\n",
            "1/1 [==============================] - 0s 24ms/step\n",
            "English: I'm sorry\n",
            "Arabic: أنا آسف                                                                                                                                                                                                                               \n"
          ]
        }
      ],
      "source": [
        "english_sentence = input(\"enter english sentence: \")\n",
        "translated_sentence = translate_sentence(english_sentence)\n",
        "print(f\"English: {english_sentence}\\nArabic: {translated_sentence}\")"
      ]
    },
    {
      "cell_type": "markdown",
      "metadata": {},
      "source": [
        "### TRY Model Translation with Transformer using Hugging Face"
      ]
    },
    {
      "cell_type": "markdown",
      "metadata": {},
      "source": [
        "The first method"
      ]
    },
    {
      "cell_type": "code",
      "execution_count": null,
      "metadata": {
        "colab": {
          "base_uri": "https://localhost:8080/",
          "height": 616
        },
        "id": "FJiVKroP6Rm9",
        "outputId": "5e4c7100-66ee-4cb4-bb62-f2332d9f0336"
      },
      "outputs": [
        {
          "name": "stdout",
          "output_type": "stream",
          "text": [
            "English: I have a lot of work to finish up before the end of the week.\n",
            "Arabic: [{'translation_text': 'لدي الكثير من العمل لأنهيه قبل نهاية الأسبوع.'}]\n"
          ]
        }
      ],
      "source": [
        "# Use a pipeline as a high-level helper\n",
        "from transformers import pipeline\n",
        "\n",
        "pipe = pipeline(\"translation\", model=\"Shularp/model-translate-en-to-ar-from-120k-dataset-ar-en-th230111447\")\n",
        "\n",
        "english_sentence = input(\"enter english sentence: \")\n",
        "\n",
        "text_trans = pipe(english_sentence)\n",
        "print(f\"English: {english_sentence}\\nArabic: {text_trans}\")"
      ]
    },
    {
      "cell_type": "markdown",
      "metadata": {},
      "source": [
        "The Second method"
      ]
    },
    {
      "cell_type": "code",
      "execution_count": 9,
      "metadata": {
        "colab": {
          "base_uri": "https://localhost:8080/",
          "height": 598
        },
        "id": "wICEPB416U8Q",
        "outputId": "d0370fc6-2240-40b2-b6e5-f0bb892084f9"
      },
      "outputs": [
        {
          "name": "stdout",
          "output_type": "stream",
          "text": [
            "English: I have a lot of work to finish up before the end of the week.\n",
            "Arabic: لدي الكثير من العمل لأنهيه قبل نهاية الأسبوع.\n"
          ]
        }
      ],
      "source": [
        "# Load model directly\n",
        "from transformers import AutoTokenizer, AutoModelForSeq2SeqLM\n",
        "\n",
        "tokenizer = AutoTokenizer.from_pretrained(\"Shularp/model-translate-en-to-ar-from-120k-dataset-ar-en-th230111447\")\n",
        "model = AutoModelForSeq2SeqLM.from_pretrained(\"Shularp/model-translate-en-to-ar-from-120k-dataset-ar-en-th230111447\")\n",
        "# Function for translation\n",
        "def translate_sentence(english_sentence):\n",
        "    # Tokenize the input sentence\n",
        "    input_ids = tokenizer.encode(english_sentence, return_tensors=\"pt\")\n",
        "\n",
        "    # Generate translation\n",
        "    output_ids = model.generate(input_ids)\n",
        "\n",
        "    # Decode the output to get the translated sentence in Arabic\n",
        "    translated_sentence = tokenizer.decode(output_ids[0], skip_special_tokens=True)\n",
        "\n",
        "    return translated_sentence\n",
        "# Example usage\n",
        "english_sentence = input(\"enter english sentence: \")\n",
        "# translated_sentence = translate_sentence(english_sentence)\n",
        "translated_sentence = translate_sentence(english_sentence)\n",
        "# Print the results\n",
        "print(f\"English: {english_sentence}\\nArabic: {translated_sentence}\")"
      ]
    }
  ],
  "metadata": {
    "accelerator": "GPU",
    "colab": {
      "gpuType": "T4",
      "provenance": []
    },
    "kernelspec": {
      "display_name": "Python 3",
      "name": "python3"
    },
    "language_info": {
      "codemirror_mode": {
        "name": "ipython",
        "version": 3
      },
      "file_extension": ".py",
      "mimetype": "text/x-python",
      "name": "python",
      "nbconvert_exporter": "python",
      "pygments_lexer": "ipython3",
      "version": "3.11.5"
    }
  },
  "nbformat": 4,
  "nbformat_minor": 0
}
